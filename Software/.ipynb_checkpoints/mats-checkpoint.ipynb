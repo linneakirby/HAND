{
 "cells": [
  {
   "cell_type": "code",
   "execution_count": 1,
   "metadata": {},
   "outputs": [],
   "source": [
    "%matplotlib widget\n",
    "\n",
    "\n",
    "import matplotlib.pyplot as plt\n",
    "import numpy as np\n",
    "import serial\n",
    "import sys\n",
    "import time\n",
    "\n",
    "\n",
    "# This connects to serial\n",
    "ser = serial.Serial(\n",
    "    #You might change the PORT corresponding to the assigned by Operative System\n",
    "    '/dev/tty.usbmodem101269201',  # raspberry: '/dev/ttyUSB1'\n",
    "    baudrate=115200,\n",
    "    timeout=0.1)\n",
    "\n",
    "\n",
    "# Default parameters\n",
    "ROWS = 48  # Rows of the sensor\n",
    "COLS = 48  # Columns of the sensor\n",
    "\n",
    "# Variable declaration\n",
    "Values = np.zeros((ROWS, COLS))\n",
    "\n",
    "\n",
    "def RequestPressureMap():\n",
    "    data = \"R\"\n",
    "    ser.write(data.encode())\n",
    "\n",
    "\n",
    "def activePointsReceiveMap():\n",
    "    global Values\n",
    "    matrix = np.zeros((ROWS, COLS), dtype=int)\n",
    "\n",
    "    xbyte = ser.read().decode('utf-8')\n",
    "\n",
    "    HighByte = ser.read()\n",
    "    LowByte = ser.read()\n",
    "    high = int.from_bytes(HighByte, 'big')\n",
    "    low = int.from_bytes(LowByte, 'big')\n",
    "    nPoints = ((high << 8) | low)\n",
    "\n",
    "    xbyte = ser.read().decode('utf-8')\n",
    "    xbyte = ser.read().decode('utf-8')\n",
    "    x = 0\n",
    "    y = 0\n",
    "    n = 0\n",
    "    while(n < nPoints):\n",
    "        x = ser.read()\n",
    "        y = ser.read()\n",
    "        x = int.from_bytes(x, 'big')\n",
    "        y = int.from_bytes(y, 'big')\n",
    "        HighByte = ser.read()\n",
    "        LowByte = ser.read()\n",
    "        high = int.from_bytes(HighByte, 'big')\n",
    "        low = int.from_bytes(LowByte, 'big')\n",
    "        val = ((high << 8) | low)\n",
    "        matrix[y][x] = val\n",
    "        n += 1\n",
    "    Values = matrix\n",
    " \n",
    "def activePointsGetMap():\n",
    "    xbyte = ''\n",
    "    if ser.in_waiting > 0:\n",
    "        try:\n",
    "            xbyte = ser.read().decode('utf-8')\n",
    "        except Exception:\n",
    "            print(\"Exception\")\n",
    "        if(xbyte == 'N'):\n",
    "            activePointsReceiveMap()\n",
    "        else:\n",
    "            ser.flush()\n",
    "\n",
    "class Null:\n",
    "    def write(self, text):\n",
    "        pass\n",
    "\n",
    "    def flush(self):\n",
    "        pass\n",
    "\n",
    "def getMatrix():\n",
    "    RequestPressureMap()\n",
    "    activePointsGetMap()\n",
    "\n",
    "def printMatrix():\n",
    "    for i in range(COLS):\n",
    "        tmp = \"\"\n",
    "        for j in range(ROWS):\n",
    "            tmp = tmp +   hex(int(Values[i][j]))[-1]\n",
    "        print(tmp)\n",
    "    print(\"\\n\")\n",
    "   \n",
    "#Main\n",
    "\n",
    "\n",
    "# while True:\n",
    "#     getMatrix() # This function requests and parses a pressure map in the variable Values    \n",
    "#     printMatrix()\n",
    "#     # time.sleep(1)\n",
    "\n",
    "\n"
   ]
  },
  {
   "cell_type": "code",
   "execution_count": 2,
   "metadata": {},
   "outputs": [
    {
     "data": {
      "application/vnd.jupyter.widget-view+json": {
       "model_id": "ffb027f1123843ee8825885935bcc25a",
       "version_major": 2,
       "version_minor": 0
      },
      "text/plain": [
       "Canvas(toolbar=Toolbar(toolitems=[('Home', 'Reset original view', 'home', 'home'), ('Back', 'Back to previous …"
      ]
     },
     "metadata": {},
     "output_type": "display_data"
    }
   ],
   "source": [
    "import matplotlib.pyplot as plt\n",
    "import numpy as np\n",
    "\n",
    "plt.style.use('_mpl-gallery-nogrid')\n",
    "\n",
    "# make data\n",
    "X, Y = np.meshgrid(np.linspace(-3, 3, 256), np.linspace(-3, 3, 256))\n",
    "Z = (1 - X/2 + X**5 + Y**3) * np.exp(-X**2 - Y**2)\n",
    "levels = np.linspace(Z.min(), Z.max(), 7)\n",
    "\n",
    "# plot\n",
    "fig, ax = plt.subplots()\n",
    "\n",
    "ax.contourf(X, Y, Z, levels=levels)\n",
    "\n",
    "plt.show()"
   ]
  },
  {
   "cell_type": "code",
   "execution_count": 5,
   "metadata": {},
   "outputs": [
    {
     "data": {
      "text/plain": [
       "['Solarize_Light2',\n",
       " '_classic_test_patch',\n",
       " 'bmh',\n",
       " 'classic',\n",
       " 'dark_background',\n",
       " 'fast',\n",
       " 'fivethirtyeight',\n",
       " 'ggplot',\n",
       " 'grayscale',\n",
       " 'seaborn',\n",
       " 'seaborn-bright',\n",
       " 'seaborn-colorblind',\n",
       " 'seaborn-dark',\n",
       " 'seaborn-dark-palette',\n",
       " 'seaborn-darkgrid',\n",
       " 'seaborn-deep',\n",
       " 'seaborn-muted',\n",
       " 'seaborn-notebook',\n",
       " 'seaborn-paper',\n",
       " 'seaborn-pastel',\n",
       " 'seaborn-poster',\n",
       " 'seaborn-talk',\n",
       " 'seaborn-ticks',\n",
       " 'seaborn-white',\n",
       " 'seaborn-whitegrid',\n",
       " 'tableau-colorblind10']"
      ]
     },
     "execution_count": 5,
     "metadata": {},
     "output_type": "execute_result"
    }
   ],
   "source": [
    "plt.style.available"
   ]
  },
  {
   "cell_type": "code",
   "execution_count": null,
   "metadata": {},
   "outputs": [],
   "source": []
  }
 ],
 "metadata": {
  "kernelspec": {
   "display_name": "Python 3",
   "language": "python",
   "name": "python3"
  },
  "language_info": {
   "codemirror_mode": {
    "name": "ipython",
    "version": 3
   },
   "file_extension": ".py",
   "mimetype": "text/x-python",
   "name": "python",
   "nbconvert_exporter": "python",
   "pygments_lexer": "ipython3",
   "version": "3.9.0"
  }
 },
 "nbformat": 4,
 "nbformat_minor": 4
}
